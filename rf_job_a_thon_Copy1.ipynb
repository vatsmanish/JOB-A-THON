{
  "cells": [
    {
      "cell_type": "code",
      "execution_count": null,
      "id": "311fb6d1",
      "metadata": {
        "id": "311fb6d1"
      },
      "outputs": [],
      "source": [
        "#pip install -U scikit-learn scipy matplotlib"
      ]
    },
    {
      "cell_type": "code",
      "execution_count": 1,
      "id": "5cba373e",
      "metadata": {
        "ExecuteTime": {
          "end_time": "2023-01-20T05:22:41.083075Z",
          "start_time": "2023-01-20T05:22:41.071081Z"
        },
        "scrolled": true,
        "id": "5cba373e"
      },
      "outputs": [],
      "source": [
        "import pandas as pd\n",
        "import numpy as np\n",
        "import matplotlib.pyplot as plt\n",
        "import seaborn as sns\n",
        "#import scipy\n",
        "from sklearn.ensemble import RandomForestRegressor\n",
        "from sklearn.model_selection import cross_val_score\n",
        "from sklearn.metrics import mean_squared_error\n",
        "from sklearn.preprocessing import LabelEncoder\n",
        "from sklearn.preprocessing import OneHotEncoder"
      ]
    },
    {
      "cell_type": "code",
      "source": [
        "from google.colab import drive\n",
        "drive.mount('/content/gdrive')"
      ],
      "metadata": {
        "colab": {
          "base_uri": "https://localhost:8080/"
        },
        "id": "wx4tJaboY2Wb",
        "outputId": "02dff9e7-9e35-4aa7-d7cf-24203e887964"
      },
      "id": "wx4tJaboY2Wb",
      "execution_count": 2,
      "outputs": [
        {
          "output_type": "stream",
          "name": "stdout",
          "text": [
            "Mounted at /content/gdrive\n"
          ]
        }
      ]
    },
    {
      "cell_type": "code",
      "execution_count": 3,
      "id": "e1f59b73",
      "metadata": {
        "ExecuteTime": {
          "end_time": "2023-01-20T05:45:27.835335Z",
          "start_time": "2023-01-20T05:45:27.478305Z"
        },
        "id": "e1f59b73"
      },
      "outputs": [],
      "source": [
        "test=pd.read_csv('/content/gdrive/MyDrive/Untitled folder/test_koRSKBP.csv')\n",
        "train=pd.read_csv('/content/gdrive/MyDrive/Untitled folder/train_BRCpofr.csv')"
      ]
    },
    {
      "cell_type": "code",
      "execution_count": 4,
      "id": "9d08315f",
      "metadata": {
        "id": "9d08315f"
      },
      "outputs": [],
      "source": [
        "train_df=pd.concat([train,test])"
      ]
    },
    {
      "cell_type": "code",
      "execution_count": 5,
      "id": "551de3a4",
      "metadata": {
        "ExecuteTime": {
          "end_time": "2023-01-20T05:45:27.867301Z",
          "start_time": "2023-01-20T05:45:27.838312Z"
        },
        "id": "551de3a4"
      },
      "outputs": [],
      "source": [
        "train_df['log_claim_amount'] = np.log(train_df['claim_amount']+1)"
      ]
    },
    {
      "cell_type": "code",
      "execution_count": 6,
      "id": "757a360c",
      "metadata": {
        "id": "757a360c"
      },
      "outputs": [],
      "source": [
        "# Data Preprocessing\n",
        "def outlier_thresholds(dataframe, variable):\n",
        "    quartile1 = dataframe[variable].quantile(0.01)\n",
        "    quartile3 = dataframe[variable].quantile(0.99)\n",
        "    interquantile_range = quartile3 - quartile1\n",
        "    up_limit = quartile3 + 1.5 * interquantile_range\n",
        "    low_limit = quartile1 - 1.5 * interquantile_range\n",
        "    return low_limit, up_limit\n",
        "\n",
        "\n",
        "def replace_with_thresholds(dataframe, variable):\n",
        "    low_limit, up_limit = outlier_thresholds(dataframe, variable)\n",
        "    dataframe.loc[(dataframe[variable] < low_limit), variable] = low_limit\n",
        "    dataframe.loc[(dataframe[variable] > up_limit), variable] = up_limit\n",
        "\n",
        "replace_with_thresholds(train_df, \"claim_amount\")\n",
        "replace_with_thresholds(train_df, \"vintage\")\n",
        "train_df[\"total_claimed_amt\"] = train_df[\"claim_amount\"] * train_df[\"vintage\"]"
      ]
    },
    {
      "cell_type": "code",
      "execution_count": 7,
      "id": "0689d197",
      "metadata": {
        "id": "0689d197"
      },
      "outputs": [],
      "source": [
        "#train['log_claim_amount']=train['log_claim_amount'].astype(str)\n",
        "#display(train[train['log_claim_amount']=='-inf'])"
      ]
    },
    {
      "cell_type": "code",
      "execution_count": 8,
      "id": "6a822400",
      "metadata": {
        "ExecuteTime": {
          "end_time": "2023-01-20T04:51:22.745431Z",
          "start_time": "2023-01-20T04:51:22.714321Z"
        },
        "colab": {
          "base_uri": "https://localhost:8080/"
        },
        "id": "6a822400",
        "outputId": "f288abc9-5776-4a79-d6a6-d5d6fc26ba11"
      },
      "outputs": [
        {
          "output_type": "execute_result",
          "data": {
            "text/plain": [
              "0"
            ]
          },
          "metadata": {},
          "execution_count": 8
        }
      ],
      "source": [
        "train.isnull().sum().sum()"
      ]
    },
    {
      "cell_type": "code",
      "execution_count": 9,
      "id": "e197b0d6",
      "metadata": {
        "ExecuteTime": {
          "end_time": "2023-01-20T04:52:16.215081Z",
          "start_time": "2023-01-20T04:52:16.168088Z"
        },
        "colab": {
          "base_uri": "https://localhost:8080/",
          "height": 300
        },
        "id": "e197b0d6",
        "outputId": "25848436-bfbb-4c04-d969-05f994828c5c"
      },
      "outputs": [
        {
          "output_type": "execute_result",
          "data": {
            "text/plain": [
              "                  id  marital_status        vintage   claim_amount  \\\n",
              "count  148987.000000   148987.000000  148987.000000  148987.000000   \n",
              "mean    74494.000000        0.576064       4.605523    4358.303201   \n",
              "std     43008.986615        0.494182       2.287299    3272.692800   \n",
              "min         1.000000        0.000000       0.000000       0.000000   \n",
              "25%     37247.500000        0.000000       3.000000    2402.000000   \n",
              "50%     74494.000000        1.000000       5.000000    4095.000000   \n",
              "75%    111740.500000        1.000000       6.000000    6098.000000   \n",
              "max    148987.000000        1.000000       8.000000   32534.000000   \n",
              "\n",
              "                cltv  log_claim_amount  total_claimed_amt  \n",
              "count   89392.000000     148987.000000      148987.000000  \n",
              "mean    97952.828978          6.814236       20130.130025  \n",
              "std     90613.814793          3.408191       19635.844301  \n",
              "min     24828.000000          0.000000           0.000000  \n",
              "25%     52836.000000          7.784473        3738.000000  \n",
              "50%     66396.000000          8.317766       16832.000000  \n",
              "75%    103440.000000          8.715880       30184.000000  \n",
              "max    724068.000000         10.390072      260272.000000  "
            ],
            "text/html": [
              "\n",
              "  <div id=\"df-318179c7-72b0-4635-be95-b47f61495663\">\n",
              "    <div class=\"colab-df-container\">\n",
              "      <div>\n",
              "<style scoped>\n",
              "    .dataframe tbody tr th:only-of-type {\n",
              "        vertical-align: middle;\n",
              "    }\n",
              "\n",
              "    .dataframe tbody tr th {\n",
              "        vertical-align: top;\n",
              "    }\n",
              "\n",
              "    .dataframe thead th {\n",
              "        text-align: right;\n",
              "    }\n",
              "</style>\n",
              "<table border=\"1\" class=\"dataframe\">\n",
              "  <thead>\n",
              "    <tr style=\"text-align: right;\">\n",
              "      <th></th>\n",
              "      <th>id</th>\n",
              "      <th>marital_status</th>\n",
              "      <th>vintage</th>\n",
              "      <th>claim_amount</th>\n",
              "      <th>cltv</th>\n",
              "      <th>log_claim_amount</th>\n",
              "      <th>total_claimed_amt</th>\n",
              "    </tr>\n",
              "  </thead>\n",
              "  <tbody>\n",
              "    <tr>\n",
              "      <th>count</th>\n",
              "      <td>148987.000000</td>\n",
              "      <td>148987.000000</td>\n",
              "      <td>148987.000000</td>\n",
              "      <td>148987.000000</td>\n",
              "      <td>89392.000000</td>\n",
              "      <td>148987.000000</td>\n",
              "      <td>148987.000000</td>\n",
              "    </tr>\n",
              "    <tr>\n",
              "      <th>mean</th>\n",
              "      <td>74494.000000</td>\n",
              "      <td>0.576064</td>\n",
              "      <td>4.605523</td>\n",
              "      <td>4358.303201</td>\n",
              "      <td>97952.828978</td>\n",
              "      <td>6.814236</td>\n",
              "      <td>20130.130025</td>\n",
              "    </tr>\n",
              "    <tr>\n",
              "      <th>std</th>\n",
              "      <td>43008.986615</td>\n",
              "      <td>0.494182</td>\n",
              "      <td>2.287299</td>\n",
              "      <td>3272.692800</td>\n",
              "      <td>90613.814793</td>\n",
              "      <td>3.408191</td>\n",
              "      <td>19635.844301</td>\n",
              "    </tr>\n",
              "    <tr>\n",
              "      <th>min</th>\n",
              "      <td>1.000000</td>\n",
              "      <td>0.000000</td>\n",
              "      <td>0.000000</td>\n",
              "      <td>0.000000</td>\n",
              "      <td>24828.000000</td>\n",
              "      <td>0.000000</td>\n",
              "      <td>0.000000</td>\n",
              "    </tr>\n",
              "    <tr>\n",
              "      <th>25%</th>\n",
              "      <td>37247.500000</td>\n",
              "      <td>0.000000</td>\n",
              "      <td>3.000000</td>\n",
              "      <td>2402.000000</td>\n",
              "      <td>52836.000000</td>\n",
              "      <td>7.784473</td>\n",
              "      <td>3738.000000</td>\n",
              "    </tr>\n",
              "    <tr>\n",
              "      <th>50%</th>\n",
              "      <td>74494.000000</td>\n",
              "      <td>1.000000</td>\n",
              "      <td>5.000000</td>\n",
              "      <td>4095.000000</td>\n",
              "      <td>66396.000000</td>\n",
              "      <td>8.317766</td>\n",
              "      <td>16832.000000</td>\n",
              "    </tr>\n",
              "    <tr>\n",
              "      <th>75%</th>\n",
              "      <td>111740.500000</td>\n",
              "      <td>1.000000</td>\n",
              "      <td>6.000000</td>\n",
              "      <td>6098.000000</td>\n",
              "      <td>103440.000000</td>\n",
              "      <td>8.715880</td>\n",
              "      <td>30184.000000</td>\n",
              "    </tr>\n",
              "    <tr>\n",
              "      <th>max</th>\n",
              "      <td>148987.000000</td>\n",
              "      <td>1.000000</td>\n",
              "      <td>8.000000</td>\n",
              "      <td>32534.000000</td>\n",
              "      <td>724068.000000</td>\n",
              "      <td>10.390072</td>\n",
              "      <td>260272.000000</td>\n",
              "    </tr>\n",
              "  </tbody>\n",
              "</table>\n",
              "</div>\n",
              "      <button class=\"colab-df-convert\" onclick=\"convertToInteractive('df-318179c7-72b0-4635-be95-b47f61495663')\"\n",
              "              title=\"Convert this dataframe to an interactive table.\"\n",
              "              style=\"display:none;\">\n",
              "        \n",
              "  <svg xmlns=\"http://www.w3.org/2000/svg\" height=\"24px\"viewBox=\"0 0 24 24\"\n",
              "       width=\"24px\">\n",
              "    <path d=\"M0 0h24v24H0V0z\" fill=\"none\"/>\n",
              "    <path d=\"M18.56 5.44l.94 2.06.94-2.06 2.06-.94-2.06-.94-.94-2.06-.94 2.06-2.06.94zm-11 1L8.5 8.5l.94-2.06 2.06-.94-2.06-.94L8.5 2.5l-.94 2.06-2.06.94zm10 10l.94 2.06.94-2.06 2.06-.94-2.06-.94-.94-2.06-.94 2.06-2.06.94z\"/><path d=\"M17.41 7.96l-1.37-1.37c-.4-.4-.92-.59-1.43-.59-.52 0-1.04.2-1.43.59L10.3 9.45l-7.72 7.72c-.78.78-.78 2.05 0 2.83L4 21.41c.39.39.9.59 1.41.59.51 0 1.02-.2 1.41-.59l7.78-7.78 2.81-2.81c.8-.78.8-2.07 0-2.86zM5.41 20L4 18.59l7.72-7.72 1.47 1.35L5.41 20z\"/>\n",
              "  </svg>\n",
              "      </button>\n",
              "      \n",
              "  <style>\n",
              "    .colab-df-container {\n",
              "      display:flex;\n",
              "      flex-wrap:wrap;\n",
              "      gap: 12px;\n",
              "    }\n",
              "\n",
              "    .colab-df-convert {\n",
              "      background-color: #E8F0FE;\n",
              "      border: none;\n",
              "      border-radius: 50%;\n",
              "      cursor: pointer;\n",
              "      display: none;\n",
              "      fill: #1967D2;\n",
              "      height: 32px;\n",
              "      padding: 0 0 0 0;\n",
              "      width: 32px;\n",
              "    }\n",
              "\n",
              "    .colab-df-convert:hover {\n",
              "      background-color: #E2EBFA;\n",
              "      box-shadow: 0px 1px 2px rgba(60, 64, 67, 0.3), 0px 1px 3px 1px rgba(60, 64, 67, 0.15);\n",
              "      fill: #174EA6;\n",
              "    }\n",
              "\n",
              "    [theme=dark] .colab-df-convert {\n",
              "      background-color: #3B4455;\n",
              "      fill: #D2E3FC;\n",
              "    }\n",
              "\n",
              "    [theme=dark] .colab-df-convert:hover {\n",
              "      background-color: #434B5C;\n",
              "      box-shadow: 0px 1px 3px 1px rgba(0, 0, 0, 0.15);\n",
              "      filter: drop-shadow(0px 1px 2px rgba(0, 0, 0, 0.3));\n",
              "      fill: #FFFFFF;\n",
              "    }\n",
              "  </style>\n",
              "\n",
              "      <script>\n",
              "        const buttonEl =\n",
              "          document.querySelector('#df-318179c7-72b0-4635-be95-b47f61495663 button.colab-df-convert');\n",
              "        buttonEl.style.display =\n",
              "          google.colab.kernel.accessAllowed ? 'block' : 'none';\n",
              "\n",
              "        async function convertToInteractive(key) {\n",
              "          const element = document.querySelector('#df-318179c7-72b0-4635-be95-b47f61495663');\n",
              "          const dataTable =\n",
              "            await google.colab.kernel.invokeFunction('convertToInteractive',\n",
              "                                                     [key], {});\n",
              "          if (!dataTable) return;\n",
              "\n",
              "          const docLinkHtml = 'Like what you see? Visit the ' +\n",
              "            '<a target=\"_blank\" href=https://colab.research.google.com/notebooks/data_table.ipynb>data table notebook</a>'\n",
              "            + ' to learn more about interactive tables.';\n",
              "          element.innerHTML = '';\n",
              "          dataTable['output_type'] = 'display_data';\n",
              "          await google.colab.output.renderOutput(dataTable, element);\n",
              "          const docLink = document.createElement('div');\n",
              "          docLink.innerHTML = docLinkHtml;\n",
              "          element.appendChild(docLink);\n",
              "        }\n",
              "      </script>\n",
              "    </div>\n",
              "  </div>\n",
              "  "
            ]
          },
          "metadata": {},
          "execution_count": 9
        }
      ],
      "source": [
        "train_df.describe()"
      ]
    },
    {
      "cell_type": "code",
      "execution_count": 10,
      "id": "5b09394b",
      "metadata": {
        "ExecuteTime": {
          "end_time": "2023-01-20T05:11:26.716282Z",
          "start_time": "2023-01-20T05:11:26.693283Z"
        },
        "colab": {
          "base_uri": "https://localhost:8080/"
        },
        "id": "5b09394b",
        "outputId": "f9830331-d593-4c0e-f912-d26ba1557b08"
      },
      "outputs": [
        {
          "output_type": "execute_result",
          "data": {
            "text/plain": [
              "Platinum    47796\n",
              "Silver      21010\n",
              "Gold        20586\n",
              "Name: type_of_policy, dtype: int64"
            ]
          },
          "metadata": {},
          "execution_count": 10
        }
      ],
      "source": [
        "train['type_of_policy'].value_counts()"
      ]
    },
    {
      "cell_type": "code",
      "execution_count": 11,
      "id": "60ad5e3d",
      "metadata": {
        "ExecuteTime": {
          "end_time": "2023-01-20T05:39:04.505797Z",
          "start_time": "2023-01-20T05:39:04.299575Z"
        },
        "id": "60ad5e3d"
      },
      "outputs": [],
      "source": [
        "train_df['income'].replace(['5L-10L', '2L-5L','More than 10L','<=2L'],\n",
        "                        [5,2,10,1], inplace=True)\n",
        "train_df['gender'].replace(['Male', 'Female'],\n",
        "                        [0,1], inplace=True)\n",
        "train_df['area'].replace(['Urban', 'Rural'],\n",
        "                        [0,1], inplace=True)\n",
        "train_df['qualification'].replace(['High School', 'Bachelor','Others'],\n",
        "                        [0,1,2], inplace=True)\n",
        "train_df['num_policies'].replace(['More than 1', '1'],\n",
        "                        [0,1], inplace=True)\n",
        "train_df['policy'].replace(['A', 'B','C'],\n",
        "                        [0,1,2], inplace=True)\n",
        "train_df['type_of_policy'].replace(['Platinum', 'Silver','Gold'],\n",
        "                        [0,1,2], inplace=True)"
      ]
    },
    {
      "cell_type": "code",
      "execution_count": 12,
      "id": "4ffdad82",
      "metadata": {
        "id": "4ffdad82"
      },
      "outputs": [],
      "source": [
        "for i in range(2,6):\n",
        "    train_df['cltv'+'_lag_'+str(i)]=train_df['cltv'].rolling(i).mean().shift(i).fillna(0)\n",
        "    #train_df['cltv'+'_expand_'+str(i)]=train_df['cltv'].expanding(i).mean(i).fillna(0)"
      ]
    },
    {
      "cell_type": "code",
      "execution_count": 13,
      "id": "1b8da9b0",
      "metadata": {
        "id": "1b8da9b0"
      },
      "outputs": [],
      "source": [
        "train=train_df[:89392]\n",
        "test=train_df[89392:]"
      ]
    },
    {
      "cell_type": "code",
      "source": [
        "len(test)"
      ],
      "metadata": {
        "colab": {
          "base_uri": "https://localhost:8080/"
        },
        "id": "QU3yFR5hdrvR",
        "outputId": "2bdee1c7-b672-4dcb-9666-3e9d1fa4a9cf"
      },
      "id": "QU3yFR5hdrvR",
      "execution_count": 14,
      "outputs": [
        {
          "output_type": "execute_result",
          "data": {
            "text/plain": [
              "59595"
            ]
          },
          "metadata": {},
          "execution_count": 14
        }
      ]
    },
    {
      "cell_type": "code",
      "source": [
        "train.corr()"
      ],
      "metadata": {
        "colab": {
          "base_uri": "https://localhost:8080/",
          "height": 678
        },
        "id": "RlrGfnCWhfdx",
        "outputId": "a22341e6-36e2-4038-9366-cc6e38fd2638"
      },
      "id": "RlrGfnCWhfdx",
      "execution_count": 15,
      "outputs": [
        {
          "output_type": "execute_result",
          "data": {
            "text/plain": [
              "                         id    gender      area  qualification    income  \\\n",
              "id                 1.000000  0.000215 -0.000073       0.005111  0.007110   \n",
              "gender             0.000215  1.000000  0.042516      -0.028010 -0.007137   \n",
              "area              -0.000073  0.042516  1.000000       0.065427  0.239859   \n",
              "qualification      0.005111 -0.028010  0.065427       1.000000  0.014792   \n",
              "income             0.007110 -0.007137  0.239859       0.014792  1.000000   \n",
              "marital_status     0.000171 -0.070468  0.048739       0.015754  0.022096   \n",
              "vintage           -0.005824 -0.005827 -0.001145       0.017561 -0.014831   \n",
              "claim_amount       0.003634 -0.049773 -0.451054      -0.066250 -0.183323   \n",
              "num_policies       0.004105 -0.052871  0.121898       0.030235  0.061823   \n",
              "policy             0.000395 -0.009049  0.107123       0.037434 -0.027849   \n",
              "type_of_policy     0.003816  0.010051  0.002121       0.022338  0.009785   \n",
              "cltv              -0.004223  0.001318 -0.133107      -0.027818 -0.069553   \n",
              "log_claim_amount   0.000775 -0.056379 -0.479301      -0.059135 -0.186021   \n",
              "total_claimed_amt  0.000411 -0.045729 -0.343947      -0.038107 -0.146197   \n",
              "cltv_lag_2        -0.005887  0.003345  0.000104       0.002967 -0.004164   \n",
              "cltv_lag_3        -0.007085  0.004701 -0.003061      -0.000012 -0.002812   \n",
              "cltv_lag_4        -0.008068 -0.001556 -0.001370       0.002649 -0.004524   \n",
              "cltv_lag_5        -0.008937 -0.004793 -0.001394       0.000765 -0.004518   \n",
              "\n",
              "                   marital_status   vintage  claim_amount  num_policies  \\\n",
              "id                       0.000171 -0.005824      0.003634      0.004105   \n",
              "gender                  -0.070468 -0.005827     -0.049773     -0.052871   \n",
              "area                     0.048739 -0.001145     -0.451054      0.121898   \n",
              "qualification            0.015754  0.017561     -0.066250      0.030235   \n",
              "income                   0.022096 -0.014831     -0.183323      0.061823   \n",
              "marital_status           1.000000 -0.011686     -0.114924      0.082363   \n",
              "vintage                 -0.011686  1.000000      0.009579     -0.050699   \n",
              "claim_amount            -0.114924  0.009579      1.000000     -0.155281   \n",
              "num_policies             0.082363 -0.050699     -0.155281      1.000000   \n",
              "policy                  -0.014709  0.043822     -0.106845      0.009837   \n",
              "type_of_policy           0.016893  0.005177      0.002588      0.032327   \n",
              "cltv                    -0.077744  0.020608      0.180344     -0.360414   \n",
              "log_claim_amount        -0.071312  0.004698      0.741341     -0.137651   \n",
              "total_claimed_amt       -0.091229  0.506117      0.777927     -0.141744   \n",
              "cltv_lag_2               0.002533 -0.003724     -0.004420      0.003933   \n",
              "cltv_lag_3               0.000520 -0.001973     -0.007708      0.004426   \n",
              "cltv_lag_4              -0.000817 -0.003042     -0.002072      0.001964   \n",
              "cltv_lag_5               0.000549 -0.005829      0.002142     -0.001388   \n",
              "\n",
              "                     policy  type_of_policy      cltv  log_claim_amount  \\\n",
              "id                 0.000395        0.003816 -0.004223          0.000775   \n",
              "gender            -0.009049        0.010051  0.001318         -0.056379   \n",
              "area               0.107123        0.002121 -0.133107         -0.479301   \n",
              "qualification      0.037434        0.022338 -0.027818         -0.059135   \n",
              "income            -0.027849        0.009785 -0.069553         -0.186021   \n",
              "marital_status    -0.014709        0.016893 -0.077744         -0.071312   \n",
              "vintage            0.043822        0.005177  0.020608          0.004698   \n",
              "claim_amount      -0.106845        0.002588  0.180344          0.741341   \n",
              "num_policies       0.009837        0.032327 -0.360414         -0.137651   \n",
              "policy             1.000000        0.043972 -0.012005         -0.108573   \n",
              "type_of_policy     0.043972        1.000000 -0.008525          0.013769   \n",
              "cltv              -0.012005       -0.008525  1.000000          0.136553   \n",
              "log_claim_amount  -0.108573        0.013769  0.136553          1.000000   \n",
              "total_claimed_amt -0.059842        0.006629  0.148837          0.569522   \n",
              "cltv_lag_2         0.001744        0.002844 -0.003234         -0.002681   \n",
              "cltv_lag_3        -0.001871        0.001018 -0.003930         -0.007251   \n",
              "cltv_lag_4        -0.003841       -0.006406 -0.005250         -0.002826   \n",
              "cltv_lag_5        -0.005079       -0.007784 -0.001697         -0.000212   \n",
              "\n",
              "                   total_claimed_amt  cltv_lag_2  cltv_lag_3  cltv_lag_4  \\\n",
              "id                          0.000411   -0.005887   -0.007085   -0.008068   \n",
              "gender                     -0.045729    0.003345    0.004701   -0.001556   \n",
              "area                       -0.343947    0.000104   -0.003061   -0.001370   \n",
              "qualification              -0.038107    0.002967   -0.000012    0.002649   \n",
              "income                     -0.146197   -0.004164   -0.002812   -0.004524   \n",
              "marital_status             -0.091229    0.002533    0.000520   -0.000817   \n",
              "vintage                     0.506117   -0.003724   -0.001973   -0.003042   \n",
              "claim_amount                0.777927   -0.004420   -0.007708   -0.002072   \n",
              "num_policies               -0.141744    0.003933    0.004426    0.001964   \n",
              "policy                     -0.059842    0.001744   -0.001871   -0.003841   \n",
              "type_of_policy              0.006629    0.002844    0.001018   -0.006406   \n",
              "cltv                        0.148837   -0.003234   -0.003930   -0.005250   \n",
              "log_claim_amount            0.569522   -0.002681   -0.007251   -0.002826   \n",
              "total_claimed_amt           1.000000   -0.005901   -0.009370   -0.006143   \n",
              "cltv_lag_2                 -0.005901    1.000000    0.405888   -0.005308   \n",
              "cltv_lag_3                 -0.009370    0.405888    1.000000    0.574542   \n",
              "cltv_lag_4                 -0.006143   -0.005308    0.574542    1.000000   \n",
              "cltv_lag_5                 -0.003192   -0.008383    0.251851    0.668515   \n",
              "\n",
              "                   cltv_lag_5  \n",
              "id                  -0.008937  \n",
              "gender              -0.004793  \n",
              "area                -0.001394  \n",
              "qualification        0.000765  \n",
              "income              -0.004518  \n",
              "marital_status       0.000549  \n",
              "vintage             -0.005829  \n",
              "claim_amount         0.002142  \n",
              "num_policies        -0.001388  \n",
              "policy              -0.005079  \n",
              "type_of_policy      -0.007784  \n",
              "cltv                -0.001697  \n",
              "log_claim_amount    -0.000212  \n",
              "total_claimed_amt   -0.003192  \n",
              "cltv_lag_2          -0.008383  \n",
              "cltv_lag_3           0.251851  \n",
              "cltv_lag_4           0.668515  \n",
              "cltv_lag_5           1.000000  "
            ],
            "text/html": [
              "\n",
              "  <div id=\"df-c6337f80-52ac-4de9-b014-9737216bfacb\">\n",
              "    <div class=\"colab-df-container\">\n",
              "      <div>\n",
              "<style scoped>\n",
              "    .dataframe tbody tr th:only-of-type {\n",
              "        vertical-align: middle;\n",
              "    }\n",
              "\n",
              "    .dataframe tbody tr th {\n",
              "        vertical-align: top;\n",
              "    }\n",
              "\n",
              "    .dataframe thead th {\n",
              "        text-align: right;\n",
              "    }\n",
              "</style>\n",
              "<table border=\"1\" class=\"dataframe\">\n",
              "  <thead>\n",
              "    <tr style=\"text-align: right;\">\n",
              "      <th></th>\n",
              "      <th>id</th>\n",
              "      <th>gender</th>\n",
              "      <th>area</th>\n",
              "      <th>qualification</th>\n",
              "      <th>income</th>\n",
              "      <th>marital_status</th>\n",
              "      <th>vintage</th>\n",
              "      <th>claim_amount</th>\n",
              "      <th>num_policies</th>\n",
              "      <th>policy</th>\n",
              "      <th>type_of_policy</th>\n",
              "      <th>cltv</th>\n",
              "      <th>log_claim_amount</th>\n",
              "      <th>total_claimed_amt</th>\n",
              "      <th>cltv_lag_2</th>\n",
              "      <th>cltv_lag_3</th>\n",
              "      <th>cltv_lag_4</th>\n",
              "      <th>cltv_lag_5</th>\n",
              "    </tr>\n",
              "  </thead>\n",
              "  <tbody>\n",
              "    <tr>\n",
              "      <th>id</th>\n",
              "      <td>1.000000</td>\n",
              "      <td>0.000215</td>\n",
              "      <td>-0.000073</td>\n",
              "      <td>0.005111</td>\n",
              "      <td>0.007110</td>\n",
              "      <td>0.000171</td>\n",
              "      <td>-0.005824</td>\n",
              "      <td>0.003634</td>\n",
              "      <td>0.004105</td>\n",
              "      <td>0.000395</td>\n",
              "      <td>0.003816</td>\n",
              "      <td>-0.004223</td>\n",
              "      <td>0.000775</td>\n",
              "      <td>0.000411</td>\n",
              "      <td>-0.005887</td>\n",
              "      <td>-0.007085</td>\n",
              "      <td>-0.008068</td>\n",
              "      <td>-0.008937</td>\n",
              "    </tr>\n",
              "    <tr>\n",
              "      <th>gender</th>\n",
              "      <td>0.000215</td>\n",
              "      <td>1.000000</td>\n",
              "      <td>0.042516</td>\n",
              "      <td>-0.028010</td>\n",
              "      <td>-0.007137</td>\n",
              "      <td>-0.070468</td>\n",
              "      <td>-0.005827</td>\n",
              "      <td>-0.049773</td>\n",
              "      <td>-0.052871</td>\n",
              "      <td>-0.009049</td>\n",
              "      <td>0.010051</td>\n",
              "      <td>0.001318</td>\n",
              "      <td>-0.056379</td>\n",
              "      <td>-0.045729</td>\n",
              "      <td>0.003345</td>\n",
              "      <td>0.004701</td>\n",
              "      <td>-0.001556</td>\n",
              "      <td>-0.004793</td>\n",
              "    </tr>\n",
              "    <tr>\n",
              "      <th>area</th>\n",
              "      <td>-0.000073</td>\n",
              "      <td>0.042516</td>\n",
              "      <td>1.000000</td>\n",
              "      <td>0.065427</td>\n",
              "      <td>0.239859</td>\n",
              "      <td>0.048739</td>\n",
              "      <td>-0.001145</td>\n",
              "      <td>-0.451054</td>\n",
              "      <td>0.121898</td>\n",
              "      <td>0.107123</td>\n",
              "      <td>0.002121</td>\n",
              "      <td>-0.133107</td>\n",
              "      <td>-0.479301</td>\n",
              "      <td>-0.343947</td>\n",
              "      <td>0.000104</td>\n",
              "      <td>-0.003061</td>\n",
              "      <td>-0.001370</td>\n",
              "      <td>-0.001394</td>\n",
              "    </tr>\n",
              "    <tr>\n",
              "      <th>qualification</th>\n",
              "      <td>0.005111</td>\n",
              "      <td>-0.028010</td>\n",
              "      <td>0.065427</td>\n",
              "      <td>1.000000</td>\n",
              "      <td>0.014792</td>\n",
              "      <td>0.015754</td>\n",
              "      <td>0.017561</td>\n",
              "      <td>-0.066250</td>\n",
              "      <td>0.030235</td>\n",
              "      <td>0.037434</td>\n",
              "      <td>0.022338</td>\n",
              "      <td>-0.027818</td>\n",
              "      <td>-0.059135</td>\n",
              "      <td>-0.038107</td>\n",
              "      <td>0.002967</td>\n",
              "      <td>-0.000012</td>\n",
              "      <td>0.002649</td>\n",
              "      <td>0.000765</td>\n",
              "    </tr>\n",
              "    <tr>\n",
              "      <th>income</th>\n",
              "      <td>0.007110</td>\n",
              "      <td>-0.007137</td>\n",
              "      <td>0.239859</td>\n",
              "      <td>0.014792</td>\n",
              "      <td>1.000000</td>\n",
              "      <td>0.022096</td>\n",
              "      <td>-0.014831</td>\n",
              "      <td>-0.183323</td>\n",
              "      <td>0.061823</td>\n",
              "      <td>-0.027849</td>\n",
              "      <td>0.009785</td>\n",
              "      <td>-0.069553</td>\n",
              "      <td>-0.186021</td>\n",
              "      <td>-0.146197</td>\n",
              "      <td>-0.004164</td>\n",
              "      <td>-0.002812</td>\n",
              "      <td>-0.004524</td>\n",
              "      <td>-0.004518</td>\n",
              "    </tr>\n",
              "    <tr>\n",
              "      <th>marital_status</th>\n",
              "      <td>0.000171</td>\n",
              "      <td>-0.070468</td>\n",
              "      <td>0.048739</td>\n",
              "      <td>0.015754</td>\n",
              "      <td>0.022096</td>\n",
              "      <td>1.000000</td>\n",
              "      <td>-0.011686</td>\n",
              "      <td>-0.114924</td>\n",
              "      <td>0.082363</td>\n",
              "      <td>-0.014709</td>\n",
              "      <td>0.016893</td>\n",
              "      <td>-0.077744</td>\n",
              "      <td>-0.071312</td>\n",
              "      <td>-0.091229</td>\n",
              "      <td>0.002533</td>\n",
              "      <td>0.000520</td>\n",
              "      <td>-0.000817</td>\n",
              "      <td>0.000549</td>\n",
              "    </tr>\n",
              "    <tr>\n",
              "      <th>vintage</th>\n",
              "      <td>-0.005824</td>\n",
              "      <td>-0.005827</td>\n",
              "      <td>-0.001145</td>\n",
              "      <td>0.017561</td>\n",
              "      <td>-0.014831</td>\n",
              "      <td>-0.011686</td>\n",
              "      <td>1.000000</td>\n",
              "      <td>0.009579</td>\n",
              "      <td>-0.050699</td>\n",
              "      <td>0.043822</td>\n",
              "      <td>0.005177</td>\n",
              "      <td>0.020608</td>\n",
              "      <td>0.004698</td>\n",
              "      <td>0.506117</td>\n",
              "      <td>-0.003724</td>\n",
              "      <td>-0.001973</td>\n",
              "      <td>-0.003042</td>\n",
              "      <td>-0.005829</td>\n",
              "    </tr>\n",
              "    <tr>\n",
              "      <th>claim_amount</th>\n",
              "      <td>0.003634</td>\n",
              "      <td>-0.049773</td>\n",
              "      <td>-0.451054</td>\n",
              "      <td>-0.066250</td>\n",
              "      <td>-0.183323</td>\n",
              "      <td>-0.114924</td>\n",
              "      <td>0.009579</td>\n",
              "      <td>1.000000</td>\n",
              "      <td>-0.155281</td>\n",
              "      <td>-0.106845</td>\n",
              "      <td>0.002588</td>\n",
              "      <td>0.180344</td>\n",
              "      <td>0.741341</td>\n",
              "      <td>0.777927</td>\n",
              "      <td>-0.004420</td>\n",
              "      <td>-0.007708</td>\n",
              "      <td>-0.002072</td>\n",
              "      <td>0.002142</td>\n",
              "    </tr>\n",
              "    <tr>\n",
              "      <th>num_policies</th>\n",
              "      <td>0.004105</td>\n",
              "      <td>-0.052871</td>\n",
              "      <td>0.121898</td>\n",
              "      <td>0.030235</td>\n",
              "      <td>0.061823</td>\n",
              "      <td>0.082363</td>\n",
              "      <td>-0.050699</td>\n",
              "      <td>-0.155281</td>\n",
              "      <td>1.000000</td>\n",
              "      <td>0.009837</td>\n",
              "      <td>0.032327</td>\n",
              "      <td>-0.360414</td>\n",
              "      <td>-0.137651</td>\n",
              "      <td>-0.141744</td>\n",
              "      <td>0.003933</td>\n",
              "      <td>0.004426</td>\n",
              "      <td>0.001964</td>\n",
              "      <td>-0.001388</td>\n",
              "    </tr>\n",
              "    <tr>\n",
              "      <th>policy</th>\n",
              "      <td>0.000395</td>\n",
              "      <td>-0.009049</td>\n",
              "      <td>0.107123</td>\n",
              "      <td>0.037434</td>\n",
              "      <td>-0.027849</td>\n",
              "      <td>-0.014709</td>\n",
              "      <td>0.043822</td>\n",
              "      <td>-0.106845</td>\n",
              "      <td>0.009837</td>\n",
              "      <td>1.000000</td>\n",
              "      <td>0.043972</td>\n",
              "      <td>-0.012005</td>\n",
              "      <td>-0.108573</td>\n",
              "      <td>-0.059842</td>\n",
              "      <td>0.001744</td>\n",
              "      <td>-0.001871</td>\n",
              "      <td>-0.003841</td>\n",
              "      <td>-0.005079</td>\n",
              "    </tr>\n",
              "    <tr>\n",
              "      <th>type_of_policy</th>\n",
              "      <td>0.003816</td>\n",
              "      <td>0.010051</td>\n",
              "      <td>0.002121</td>\n",
              "      <td>0.022338</td>\n",
              "      <td>0.009785</td>\n",
              "      <td>0.016893</td>\n",
              "      <td>0.005177</td>\n",
              "      <td>0.002588</td>\n",
              "      <td>0.032327</td>\n",
              "      <td>0.043972</td>\n",
              "      <td>1.000000</td>\n",
              "      <td>-0.008525</td>\n",
              "      <td>0.013769</td>\n",
              "      <td>0.006629</td>\n",
              "      <td>0.002844</td>\n",
              "      <td>0.001018</td>\n",
              "      <td>-0.006406</td>\n",
              "      <td>-0.007784</td>\n",
              "    </tr>\n",
              "    <tr>\n",
              "      <th>cltv</th>\n",
              "      <td>-0.004223</td>\n",
              "      <td>0.001318</td>\n",
              "      <td>-0.133107</td>\n",
              "      <td>-0.027818</td>\n",
              "      <td>-0.069553</td>\n",
              "      <td>-0.077744</td>\n",
              "      <td>0.020608</td>\n",
              "      <td>0.180344</td>\n",
              "      <td>-0.360414</td>\n",
              "      <td>-0.012005</td>\n",
              "      <td>-0.008525</td>\n",
              "      <td>1.000000</td>\n",
              "      <td>0.136553</td>\n",
              "      <td>0.148837</td>\n",
              "      <td>-0.003234</td>\n",
              "      <td>-0.003930</td>\n",
              "      <td>-0.005250</td>\n",
              "      <td>-0.001697</td>\n",
              "    </tr>\n",
              "    <tr>\n",
              "      <th>log_claim_amount</th>\n",
              "      <td>0.000775</td>\n",
              "      <td>-0.056379</td>\n",
              "      <td>-0.479301</td>\n",
              "      <td>-0.059135</td>\n",
              "      <td>-0.186021</td>\n",
              "      <td>-0.071312</td>\n",
              "      <td>0.004698</td>\n",
              "      <td>0.741341</td>\n",
              "      <td>-0.137651</td>\n",
              "      <td>-0.108573</td>\n",
              "      <td>0.013769</td>\n",
              "      <td>0.136553</td>\n",
              "      <td>1.000000</td>\n",
              "      <td>0.569522</td>\n",
              "      <td>-0.002681</td>\n",
              "      <td>-0.007251</td>\n",
              "      <td>-0.002826</td>\n",
              "      <td>-0.000212</td>\n",
              "    </tr>\n",
              "    <tr>\n",
              "      <th>total_claimed_amt</th>\n",
              "      <td>0.000411</td>\n",
              "      <td>-0.045729</td>\n",
              "      <td>-0.343947</td>\n",
              "      <td>-0.038107</td>\n",
              "      <td>-0.146197</td>\n",
              "      <td>-0.091229</td>\n",
              "      <td>0.506117</td>\n",
              "      <td>0.777927</td>\n",
              "      <td>-0.141744</td>\n",
              "      <td>-0.059842</td>\n",
              "      <td>0.006629</td>\n",
              "      <td>0.148837</td>\n",
              "      <td>0.569522</td>\n",
              "      <td>1.000000</td>\n",
              "      <td>-0.005901</td>\n",
              "      <td>-0.009370</td>\n",
              "      <td>-0.006143</td>\n",
              "      <td>-0.003192</td>\n",
              "    </tr>\n",
              "    <tr>\n",
              "      <th>cltv_lag_2</th>\n",
              "      <td>-0.005887</td>\n",
              "      <td>0.003345</td>\n",
              "      <td>0.000104</td>\n",
              "      <td>0.002967</td>\n",
              "      <td>-0.004164</td>\n",
              "      <td>0.002533</td>\n",
              "      <td>-0.003724</td>\n",
              "      <td>-0.004420</td>\n",
              "      <td>0.003933</td>\n",
              "      <td>0.001744</td>\n",
              "      <td>0.002844</td>\n",
              "      <td>-0.003234</td>\n",
              "      <td>-0.002681</td>\n",
              "      <td>-0.005901</td>\n",
              "      <td>1.000000</td>\n",
              "      <td>0.405888</td>\n",
              "      <td>-0.005308</td>\n",
              "      <td>-0.008383</td>\n",
              "    </tr>\n",
              "    <tr>\n",
              "      <th>cltv_lag_3</th>\n",
              "      <td>-0.007085</td>\n",
              "      <td>0.004701</td>\n",
              "      <td>-0.003061</td>\n",
              "      <td>-0.000012</td>\n",
              "      <td>-0.002812</td>\n",
              "      <td>0.000520</td>\n",
              "      <td>-0.001973</td>\n",
              "      <td>-0.007708</td>\n",
              "      <td>0.004426</td>\n",
              "      <td>-0.001871</td>\n",
              "      <td>0.001018</td>\n",
              "      <td>-0.003930</td>\n",
              "      <td>-0.007251</td>\n",
              "      <td>-0.009370</td>\n",
              "      <td>0.405888</td>\n",
              "      <td>1.000000</td>\n",
              "      <td>0.574542</td>\n",
              "      <td>0.251851</td>\n",
              "    </tr>\n",
              "    <tr>\n",
              "      <th>cltv_lag_4</th>\n",
              "      <td>-0.008068</td>\n",
              "      <td>-0.001556</td>\n",
              "      <td>-0.001370</td>\n",
              "      <td>0.002649</td>\n",
              "      <td>-0.004524</td>\n",
              "      <td>-0.000817</td>\n",
              "      <td>-0.003042</td>\n",
              "      <td>-0.002072</td>\n",
              "      <td>0.001964</td>\n",
              "      <td>-0.003841</td>\n",
              "      <td>-0.006406</td>\n",
              "      <td>-0.005250</td>\n",
              "      <td>-0.002826</td>\n",
              "      <td>-0.006143</td>\n",
              "      <td>-0.005308</td>\n",
              "      <td>0.574542</td>\n",
              "      <td>1.000000</td>\n",
              "      <td>0.668515</td>\n",
              "    </tr>\n",
              "    <tr>\n",
              "      <th>cltv_lag_5</th>\n",
              "      <td>-0.008937</td>\n",
              "      <td>-0.004793</td>\n",
              "      <td>-0.001394</td>\n",
              "      <td>0.000765</td>\n",
              "      <td>-0.004518</td>\n",
              "      <td>0.000549</td>\n",
              "      <td>-0.005829</td>\n",
              "      <td>0.002142</td>\n",
              "      <td>-0.001388</td>\n",
              "      <td>-0.005079</td>\n",
              "      <td>-0.007784</td>\n",
              "      <td>-0.001697</td>\n",
              "      <td>-0.000212</td>\n",
              "      <td>-0.003192</td>\n",
              "      <td>-0.008383</td>\n",
              "      <td>0.251851</td>\n",
              "      <td>0.668515</td>\n",
              "      <td>1.000000</td>\n",
              "    </tr>\n",
              "  </tbody>\n",
              "</table>\n",
              "</div>\n",
              "      <button class=\"colab-df-convert\" onclick=\"convertToInteractive('df-c6337f80-52ac-4de9-b014-9737216bfacb')\"\n",
              "              title=\"Convert this dataframe to an interactive table.\"\n",
              "              style=\"display:none;\">\n",
              "        \n",
              "  <svg xmlns=\"http://www.w3.org/2000/svg\" height=\"24px\"viewBox=\"0 0 24 24\"\n",
              "       width=\"24px\">\n",
              "    <path d=\"M0 0h24v24H0V0z\" fill=\"none\"/>\n",
              "    <path d=\"M18.56 5.44l.94 2.06.94-2.06 2.06-.94-2.06-.94-.94-2.06-.94 2.06-2.06.94zm-11 1L8.5 8.5l.94-2.06 2.06-.94-2.06-.94L8.5 2.5l-.94 2.06-2.06.94zm10 10l.94 2.06.94-2.06 2.06-.94-2.06-.94-.94-2.06-.94 2.06-2.06.94z\"/><path d=\"M17.41 7.96l-1.37-1.37c-.4-.4-.92-.59-1.43-.59-.52 0-1.04.2-1.43.59L10.3 9.45l-7.72 7.72c-.78.78-.78 2.05 0 2.83L4 21.41c.39.39.9.59 1.41.59.51 0 1.02-.2 1.41-.59l7.78-7.78 2.81-2.81c.8-.78.8-2.07 0-2.86zM5.41 20L4 18.59l7.72-7.72 1.47 1.35L5.41 20z\"/>\n",
              "  </svg>\n",
              "      </button>\n",
              "      \n",
              "  <style>\n",
              "    .colab-df-container {\n",
              "      display:flex;\n",
              "      flex-wrap:wrap;\n",
              "      gap: 12px;\n",
              "    }\n",
              "\n",
              "    .colab-df-convert {\n",
              "      background-color: #E8F0FE;\n",
              "      border: none;\n",
              "      border-radius: 50%;\n",
              "      cursor: pointer;\n",
              "      display: none;\n",
              "      fill: #1967D2;\n",
              "      height: 32px;\n",
              "      padding: 0 0 0 0;\n",
              "      width: 32px;\n",
              "    }\n",
              "\n",
              "    .colab-df-convert:hover {\n",
              "      background-color: #E2EBFA;\n",
              "      box-shadow: 0px 1px 2px rgba(60, 64, 67, 0.3), 0px 1px 3px 1px rgba(60, 64, 67, 0.15);\n",
              "      fill: #174EA6;\n",
              "    }\n",
              "\n",
              "    [theme=dark] .colab-df-convert {\n",
              "      background-color: #3B4455;\n",
              "      fill: #D2E3FC;\n",
              "    }\n",
              "\n",
              "    [theme=dark] .colab-df-convert:hover {\n",
              "      background-color: #434B5C;\n",
              "      box-shadow: 0px 1px 3px 1px rgba(0, 0, 0, 0.15);\n",
              "      filter: drop-shadow(0px 1px 2px rgba(0, 0, 0, 0.3));\n",
              "      fill: #FFFFFF;\n",
              "    }\n",
              "  </style>\n",
              "\n",
              "      <script>\n",
              "        const buttonEl =\n",
              "          document.querySelector('#df-c6337f80-52ac-4de9-b014-9737216bfacb button.colab-df-convert');\n",
              "        buttonEl.style.display =\n",
              "          google.colab.kernel.accessAllowed ? 'block' : 'none';\n",
              "\n",
              "        async function convertToInteractive(key) {\n",
              "          const element = document.querySelector('#df-c6337f80-52ac-4de9-b014-9737216bfacb');\n",
              "          const dataTable =\n",
              "            await google.colab.kernel.invokeFunction('convertToInteractive',\n",
              "                                                     [key], {});\n",
              "          if (!dataTable) return;\n",
              "\n",
              "          const docLinkHtml = 'Like what you see? Visit the ' +\n",
              "            '<a target=\"_blank\" href=https://colab.research.google.com/notebooks/data_table.ipynb>data table notebook</a>'\n",
              "            + ' to learn more about interactive tables.';\n",
              "          element.innerHTML = '';\n",
              "          dataTable['output_type'] = 'display_data';\n",
              "          await google.colab.output.renderOutput(dataTable, element);\n",
              "          const docLink = document.createElement('div');\n",
              "          docLink.innerHTML = docLinkHtml;\n",
              "          element.appendChild(docLink);\n",
              "        }\n",
              "      </script>\n",
              "    </div>\n",
              "  </div>\n",
              "  "
            ]
          },
          "metadata": {},
          "execution_count": 15
        }
      ]
    },
    {
      "cell_type": "code",
      "source": [
        "hm = sns.heatmap(data = train) \n",
        "# displaying the plotted heatmap\n",
        "plt.show()"
      ],
      "metadata": {
        "colab": {
          "base_uri": "https://localhost:8080/",
          "height": 352
        },
        "id": "iLh9I1OJcBIz",
        "outputId": "8e80eca3-5319-43d4-f186-933345f79cdb"
      },
      "id": "iLh9I1OJcBIz",
      "execution_count": 16,
      "outputs": [
        {
          "output_type": "display_data",
          "data": {
            "text/plain": [
              "<Figure size 432x288 with 2 Axes>"
            ],
            "image/png": "[encoded data removed]"
          },
          "metadata": {
            "needs_background": "light"
          }
        }
      ]
    },
    {
      "cell_type": "code",
      "execution_count": 17,
      "id": "bbc9492c",
      "metadata": {
        "id": "bbc9492c"
      },
      "outputs": [],
      "source": [
        "test=test.drop(['cltv'],axis=1)"
      ]
    },
    {
      "cell_type": "code",
      "execution_count": 18,
      "id": "e4e8762c",
      "metadata": {
        "id": "e4e8762c"
      },
      "outputs": [],
      "source": [
        "#train['log_claim_amount'] = np.log(train.claim_amount)\n",
        "#train['log_cltv'] = np.log(train.cltv)"
      ]
    },
    {
      "cell_type": "code",
      "execution_count": 19,
      "id": "fcbd0f2c",
      "metadata": {
        "ExecuteTime": {
          "end_time": "2023-01-20T05:39:15.408598Z",
          "start_time": "2023-01-20T05:39:15.397597Z"
        },
        "id": "fcbd0f2c"
      },
      "outputs": [],
      "source": [
        "def random_forest_importance_matrix(X, model):    \n",
        "#     X = training_data\n",
        "#     X = X[X.columns.drop(list(X.filter(regex='Lag_')))]\n",
        "  \n",
        "    feature_list = list(X.columns)\n",
        "    feature_list.remove(\"cltv\")\n",
        "    features = np.array(X.drop(['cltv'], axis = 1))\n",
        "    target = np.array(X['cltv'])\n",
        "    rf = model\n",
        "    rf.fit(features, target)\n",
        "    \n",
        "    # Get numerical feature importances\n",
        "    importances = list(rf.feature_importances_)\n",
        "    # take only those where we have >.80% importance \n",
        "    # List of tuples with variable and importance\n",
        "    feature_importances = [(feature, round(importance, 4)) for feature, importance in zip(feature_list, importances)]\n",
        "    # Sort the feature importances by most important first\n",
        "    feature_importances = sorted(feature_importances, key = lambda x: x[1], reverse = True)\n",
        "    df = pd.DataFrame(feature_importances, columns =['Variable', 'Importance']) \n",
        "    return(df)\n",
        "  \n",
        "  \n",
        "def random_forest_regressor_grid(features,target):  \n",
        "#     X = X[X.columns.drop(list(X.filter(regex='Lag_')))]\n",
        "#     features = np.array(X.drop(['Actuals'], axis = 1))\n",
        "#     target = np.array(X['Actuals'])\n",
        "  \n",
        "    rf = RandomForestRegressor()\n",
        "    # Number of trees in random forest\n",
        "    n_estimators = [int(x) for x in np.linspace(start = 20, stop = 60, num = 10)]\n",
        "    # Number of features to consider at every split\n",
        "    max_features = ['auto', 'sqrt']\n",
        "    # Maximum number of levels in tree\n",
        "    max_depth = [int(x) for x in np.linspace(2, 8, num = 1)]\n",
        "   # max_depth.append(None)\n",
        "    # Minimum number of samples required to split 4a node\n",
        "    min_samples_split = [4]\n",
        "    # Minimum number of samples required at each leaf node\n",
        "    min_samples_leaf = [2]\n",
        "    # Method of selecting samples for training each tree\n",
        "    bootstrap = [True]\n",
        "    # Create the random grid\n",
        "    param_grid = {'n_estimators': n_estimators,\n",
        "               'max_features': max_features,\n",
        "               'max_depth': max_depth,\n",
        "               'min_samples_split': min_samples_split,\n",
        "               'min_samples_leaf': min_samples_leaf,\n",
        "               'bootstrap': bootstrap,\n",
        "               'n_jobs':[2]}\n",
        "    grid_search = GridSearchCV(estimator = rf, param_grid = param_grid, \n",
        "                          cv = 5, n_jobs = -1, verbose = 2)\n",
        "    grid_search.fit(features, target)\n",
        "\n",
        "    #X = training_data\n",
        "   \n",
        "    \n",
        "    best_grid = grid_search.best_estimator_    \n",
        "    return(best_grid)"
      ]
    },
    {
      "cell_type": "code",
      "execution_count": 20,
      "id": "a23665f7",
      "metadata": {
        "ExecuteTime": {
          "end_time": "2023-01-20T05:45:27.472304Z",
          "start_time": "2023-01-20T05:39:16.835606Z"
        },
        "colab": {
          "base_uri": "https://localhost:8080/"
        },
        "id": "a23665f7",
        "outputId": "e410eb7f-38b9-4a31-870d-ff88c8f1c255"
      },
      "outputs": [
        {
          "output_type": "stream",
          "name": "stderr",
          "text": [
            "[Parallel(n_jobs=-1)]: Using backend ThreadingBackend with 2 concurrent workers.\n",
            "[Parallel(n_jobs=-1)]: Done  46 tasks      | elapsed:   13.2s\n",
            "[Parallel(n_jobs=-1)]: Done 196 tasks      | elapsed:   58.3s\n",
            "[Parallel(n_jobs=-1)]: Done 446 tasks      | elapsed:  2.1min\n",
            "[Parallel(n_jobs=-1)]: Done 796 tasks      | elapsed:  3.8min\n",
            "[Parallel(n_jobs=-1)]: Done 1000 out of 1000 | elapsed:  4.8min finished\n",
            "[Parallel(n_jobs=-1)]: Using backend LokyBackend with 2 concurrent workers.\n",
            "[Parallel(n_jobs=-1)]: Done  46 tasks      | elapsed:   12.8s\n",
            "[Parallel(n_jobs=-1)]: Done 196 tasks      | elapsed:   49.8s\n",
            "[Parallel(n_jobs=-1)]: Done 446 tasks      | elapsed:  1.9min\n",
            "[Parallel(n_jobs=-1)]: Done 796 tasks      | elapsed:  3.3min\n",
            "[Parallel(n_jobs=-1)]: Done 1000 out of 1000 | elapsed:  4.2min finished\n",
            "[Parallel(n_jobs=2)]: Using backend ThreadingBackend with 2 concurrent workers.\n",
            "[Parallel(n_jobs=2)]: Done  46 tasks      | elapsed:    0.0s\n",
            "[Parallel(n_jobs=2)]: Done 196 tasks      | elapsed:    0.2s\n",
            "[Parallel(n_jobs=2)]: Done 446 tasks      | elapsed:    0.4s\n",
            "[Parallel(n_jobs=2)]: Done 796 tasks      | elapsed:    0.6s\n",
            "[Parallel(n_jobs=2)]: Done 1000 out of 1000 | elapsed:    0.8s finished\n",
            "[Parallel(n_jobs=-1)]: Using backend LokyBackend with 2 concurrent workers.\n",
            "[Parallel(n_jobs=-1)]: Done  46 tasks      | elapsed:   11.5s\n",
            "[Parallel(n_jobs=-1)]: Done 196 tasks      | elapsed:   48.4s\n",
            "[Parallel(n_jobs=-1)]: Done 446 tasks      | elapsed:  1.9min\n",
            "[Parallel(n_jobs=-1)]: Done 796 tasks      | elapsed:  3.3min\n",
            "[Parallel(n_jobs=-1)]: Done 1000 out of 1000 | elapsed:  4.1min finished\n",
            "[Parallel(n_jobs=2)]: Using backend ThreadingBackend with 2 concurrent workers.\n",
            "[Parallel(n_jobs=2)]: Done  46 tasks      | elapsed:    0.0s\n",
            "[Parallel(n_jobs=2)]: Done 196 tasks      | elapsed:    0.2s\n",
            "[Parallel(n_jobs=2)]: Done 446 tasks      | elapsed:    0.3s\n",
            "[Parallel(n_jobs=2)]: Done 796 tasks      | elapsed:    0.6s\n",
            "[Parallel(n_jobs=2)]: Done 1000 out of 1000 | elapsed:    0.8s finished\n",
            "[Parallel(n_jobs=-1)]: Using backend LokyBackend with 2 concurrent workers.\n",
            "[Parallel(n_jobs=-1)]: Done  46 tasks      | elapsed:   13.8s\n",
            "[Parallel(n_jobs=-1)]: Done 196 tasks      | elapsed:   50.7s\n",
            "[Parallel(n_jobs=-1)]: Done 446 tasks      | elapsed:  1.9min\n",
            "[Parallel(n_jobs=-1)]: Done 796 tasks      | elapsed:  3.4min\n",
            "[Parallel(n_jobs=-1)]: Done 1000 out of 1000 | elapsed:  4.2min finished\n",
            "[Parallel(n_jobs=2)]: Using backend ThreadingBackend with 2 concurrent workers.\n",
            "[Parallel(n_jobs=2)]: Done  46 tasks      | elapsed:    0.0s\n",
            "[Parallel(n_jobs=2)]: Done 196 tasks      | elapsed:    0.2s\n",
            "[Parallel(n_jobs=2)]: Done 446 tasks      | elapsed:    0.4s\n",
            "[Parallel(n_jobs=2)]: Done 796 tasks      | elapsed:    0.7s\n",
            "[Parallel(n_jobs=2)]: Done 1000 out of 1000 | elapsed:    0.8s finished\n",
            "[Parallel(n_jobs=-1)]: Using backend LokyBackend with 2 concurrent workers.\n",
            "[Parallel(n_jobs=-1)]: Done  46 tasks      | elapsed:   11.7s\n",
            "[Parallel(n_jobs=-1)]: Done 196 tasks      | elapsed:   48.6s\n",
            "[Parallel(n_jobs=-1)]: Done 446 tasks      | elapsed:  1.9min\n",
            "[Parallel(n_jobs=-1)]: Done 796 tasks      | elapsed:  3.3min\n",
            "[Parallel(n_jobs=-1)]: Done 1000 out of 1000 | elapsed:  4.2min finished\n",
            "[Parallel(n_jobs=2)]: Using backend ThreadingBackend with 2 concurrent workers.\n",
            "[Parallel(n_jobs=2)]: Done  46 tasks      | elapsed:    0.0s\n",
            "[Parallel(n_jobs=2)]: Done 196 tasks      | elapsed:    0.1s\n",
            "[Parallel(n_jobs=2)]: Done 446 tasks      | elapsed:    0.3s\n",
            "[Parallel(n_jobs=2)]: Done 796 tasks      | elapsed:    0.6s\n",
            "[Parallel(n_jobs=2)]: Done 1000 out of 1000 | elapsed:    0.8s finished\n",
            "[Parallel(n_jobs=-1)]: Using backend LokyBackend with 2 concurrent workers.\n",
            "[Parallel(n_jobs=-1)]: Done  46 tasks      | elapsed:   11.3s\n",
            "[Parallel(n_jobs=-1)]: Done 196 tasks      | elapsed:   48.5s\n",
            "[Parallel(n_jobs=-1)]: Done 446 tasks      | elapsed:  1.9min\n",
            "[Parallel(n_jobs=-1)]: Done 796 tasks      | elapsed:  3.3min\n",
            "[Parallel(n_jobs=-1)]: Done 1000 out of 1000 | elapsed:  4.1min finished\n",
            "[Parallel(n_jobs=2)]: Using backend ThreadingBackend with 2 concurrent workers.\n",
            "[Parallel(n_jobs=2)]: Done  46 tasks      | elapsed:    0.0s\n",
            "[Parallel(n_jobs=2)]: Done 196 tasks      | elapsed:    0.2s\n",
            "[Parallel(n_jobs=2)]: Done 446 tasks      | elapsed:    0.4s\n",
            "[Parallel(n_jobs=2)]: Done 796 tasks      | elapsed:    0.7s\n",
            "[Parallel(n_jobs=2)]: Done 1000 out of 1000 | elapsed:    0.9s finished\n",
            "[Parallel(n_jobs=-1)]: Using backend LokyBackend with 2 concurrent workers.\n",
            "[Parallel(n_jobs=-1)]: Done  46 tasks      | elapsed:   13.6s\n",
            "[Parallel(n_jobs=-1)]: Done 196 tasks      | elapsed:   50.5s\n",
            "[Parallel(n_jobs=-1)]: Done 446 tasks      | elapsed:  1.9min\n",
            "[Parallel(n_jobs=-1)]: Done 796 tasks      | elapsed:  3.3min\n",
            "[Parallel(n_jobs=-1)]: Done 1000 out of 1000 | elapsed:  4.2min finished\n",
            "[Parallel(n_jobs=2)]: Using backend ThreadingBackend with 2 concurrent workers.\n",
            "[Parallel(n_jobs=2)]: Done  46 tasks      | elapsed:    0.0s\n",
            "[Parallel(n_jobs=2)]: Done 196 tasks      | elapsed:    0.2s\n",
            "[Parallel(n_jobs=2)]: Done 446 tasks      | elapsed:    0.4s\n",
            "[Parallel(n_jobs=2)]: Done 796 tasks      | elapsed:    0.6s\n",
            "[Parallel(n_jobs=2)]: Done 1000 out of 1000 | elapsed:    0.8s finished\n",
            "[Parallel(n_jobs=-1)]: Using backend LokyBackend with 2 concurrent workers.\n",
            "[Parallel(n_jobs=-1)]: Done  46 tasks      | elapsed:   11.7s\n",
            "[Parallel(n_jobs=-1)]: Done 196 tasks      | elapsed:   48.9s\n",
            "[Parallel(n_jobs=-1)]: Done 446 tasks      | elapsed:  1.9min\n",
            "[Parallel(n_jobs=-1)]: Done 796 tasks      | elapsed:  3.3min\n",
            "[Parallel(n_jobs=-1)]: Done 1000 out of 1000 | elapsed:  4.2min finished\n",
            "[Parallel(n_jobs=2)]: Using backend ThreadingBackend with 2 concurrent workers.\n",
            "[Parallel(n_jobs=2)]: Done  46 tasks      | elapsed:    0.0s\n",
            "[Parallel(n_jobs=2)]: Done 196 tasks      | elapsed:    0.1s\n",
            "[Parallel(n_jobs=2)]: Done 446 tasks      | elapsed:    0.3s\n",
            "[Parallel(n_jobs=2)]: Done 796 tasks      | elapsed:    0.6s\n",
            "[Parallel(n_jobs=2)]: Done 1000 out of 1000 | elapsed:    0.8s finished\n",
            "[Parallel(n_jobs=2)]: Using backend ThreadingBackend with 2 concurrent workers.\n"
          ]
        },
        {
          "output_type": "stream",
          "name": "stdout",
          "text": [
            "0.15645819132325509\n"
          ]
        },
        {
          "output_type": "stream",
          "name": "stderr",
          "text": [
            "[Parallel(n_jobs=2)]: Done  46 tasks      | elapsed:    0.2s\n",
            "[Parallel(n_jobs=2)]: Done 196 tasks      | elapsed:    0.8s\n",
            "[Parallel(n_jobs=2)]: Done 446 tasks      | elapsed:    1.8s\n",
            "[Parallel(n_jobs=2)]: Done 796 tasks      | elapsed:    3.3s\n",
            "[Parallel(n_jobs=2)]: Done 1000 out of 1000 | elapsed:    4.1s finished\n"
          ]
        }
      ],
      "source": [
        "y = train['cltv']\n",
        "X = train.drop(['cltv'], axis=1)\n",
        "try: \n",
        "    rf = random_forest_regressor_grid(X,train['cltv'])\n",
        "except: \n",
        "    rf = RandomForestRegressor(bootstrap=True, criterion='squared_error',\n",
        "              max_depth=6 ,max_features='auto', max_leaf_nodes=None,\n",
        "               min_samples_leaf=2,\n",
        "              min_samples_split=2, min_weight_fraction_leaf=0.0,\n",
        "              n_estimators=1000, n_jobs=-1, oob_score=False, random_state=0,\n",
        "              verbose=1, warm_start=False,min_impurity_decrease = 0.035)\n",
        "# colstoselect = list(random_forest_importance_matrix(train['cltv'], rf)[0:12]['Variable'])\n",
        "# features = trian[X]\n",
        "# print(random_forest_importance_matrix(train['cltv'], rf)[0:10])\n",
        "model_rf = rf.fit(X,y)\n",
        "importances = model_rf.feature_importances_\n",
        "important_features_dict = {}\n",
        "for idx, val in enumerate(importances):\n",
        "    important_features_dict[idx] = val\n",
        "    important_features_list = sorted(important_features_dict,\n",
        "                                 key=important_features_dict.get,\n",
        "                                 reverse=True)\n",
        "score = cross_val_score(model_rf, X, y, cv=7)\n",
        "print(score.mean())\n",
        "        \n",
        "r_squared = model_rf.score(X, y)      \n",
        "        \n",
        "# candidate_max_leaf_nodes = [250]\n",
        "# #model = LinearRegression()\n",
        "\n",
        "# for node in candidate_max_leaf_nodes:\n",
        "#     model = RandomForestRegressor(max_leaf_nodes=node,)\n",
        "#     model.fit(X, y)\n",
        "#     score = cross_val_score(model, X, y, cv=10)\n",
        "#     print(score.mean())"
      ]
    },
    {
      "cell_type": "code",
      "execution_count": 28,
      "id": "fb849845",
      "metadata": {
        "ExecuteTime": {
          "end_time": "2023-01-20T07:13:23.415652Z",
          "start_time": "2023-01-20T07:13:22.450651Z"
        },
        "colab": {
          "base_uri": "https://localhost:8080/"
        },
        "id": "fb849845",
        "outputId": "46ab4f13-a466-4e82-ca69-4ea89ea3fd33"
      },
      "outputs": [
        {
          "output_type": "execute_result",
          "data": {
            "text/plain": [
              "{0: 0.005998626048613885,\n",
              " 1: 0.0006955885435196053,\n",
              " 2: 0.02573444805702406,\n",
              " 3: 0.00041980895852534084,\n",
              " 4: 0.0012056082066729177,\n",
              " 5: 0.007249271090428751,\n",
              " 6: 0.0007241868673890735,\n",
              " 7: 0.0656961201918662,\n",
              " 8: 0.7831230428980273,\n",
              " 9: 0.015120609402728913,\n",
              " 10: 0.0017101786483029783,\n",
              " 11: 0.06404659180277256,\n",
              " 12: 0.004283453901170715,\n",
              " 13: 0.006328253302389547,\n",
              " 14: 0.006203354394950482,\n",
              " 15: 0.005762340251597483,\n",
              " 16: 0.005698517434020218}"
            ]
          },
          "metadata": {},
          "execution_count": 28
        }
      ],
      "source": [
        "important_features_dict"
      ]
    },
    {
      "cell_type": "code",
      "execution_count": 29,
      "id": "451f9456",
      "metadata": {
        "id": "451f9456"
      },
      "outputs": [],
      "source": [
        "test['log_claim_amount'] = np.log(test['claim_amount']+1)\n",
        "\n",
        "# Data Preprocessing\n",
        "def outlier_thresholds(dataframe, variable):\n",
        "    quartile1 = dataframe[variable].quantile(0.01)\n",
        "    quartile3 = dataframe[variable].quantile(0.99)\n",
        "    interquantile_range = quartile3 - quartile1\n",
        "    up_limit = quartile3 + 1.5 * interquantile_range\n",
        "    low_limit = quartile1 - 1.5 * interquantile_range\n",
        "    return low_limit, up_limit\n",
        "\n",
        "\n",
        "def replace_with_thresholds(dataframe, variable):\n",
        "    low_limit, up_limit = outlier_thresholds(dataframe, variable)\n",
        "    dataframe.loc[(dataframe[variable] < low_limit), variable] = low_limit\n",
        "    dataframe.loc[(dataframe[variable] > up_limit), variable] = up_limit\n",
        "\n",
        "replace_with_thresholds(test, \"claim_amount\")\n",
        "replace_with_thresholds(test, \"vintage\")\n",
        "test[\"total_claimed_amt\"] = test[\"claim_amount\"] * train[\"vintage\"]"
      ]
    },
    {
      "cell_type": "code",
      "execution_count": 30,
      "id": "47e392f3",
      "metadata": {
        "ExecuteTime": {
          "end_time": "2023-01-20T07:04:11.984481Z",
          "start_time": "2023-01-20T07:04:11.833987Z"
        },
        "id": "47e392f3"
      },
      "outputs": [],
      "source": [
        "test['income'].replace(['5L-10L', '2L-5L','More than 10L','<=2L'],\n",
        "                        [5,2,10,1], inplace=True)\n",
        "test['gender'].replace(['Male', 'Female'],\n",
        "                        [0,1], inplace=True)\n",
        "test['area'].replace(['Urban', 'Rural'],\n",
        "                        [0,1], inplace=True)\n",
        "test['qualification'].replace(['High School', 'Bachelor','Others'],\n",
        "                        [0,1,2], inplace=True)\n",
        "test['num_policies'].replace(['More than 1', '1'],\n",
        "                        [0,1], inplace=True)\n",
        "test['policy'].replace(['A', 'B','C'],\n",
        "                        [0,1,2], inplace=True)\n",
        "test['type_of_policy'].replace(['Platinum', 'Silver','Gold'],\n",
        "                        [0,1,2], inplace=True)\n",
        "\n"
      ]
    },
    {
      "cell_type": "code",
      "execution_count": 31,
      "id": "4a926d49",
      "metadata": {
        "colab": {
          "base_uri": "https://localhost:8080/"
        },
        "id": "4a926d49",
        "outputId": "b24e1233-1194-44a8-e2d6-b289bc9ebed0"
      },
      "outputs": [
        {
          "output_type": "execute_result",
          "data": {
            "text/plain": [
              "Index(['id', 'gender', 'area', 'qualification', 'income', 'marital_status',\n",
              "       'vintage', 'claim_amount', 'num_policies', 'policy', 'type_of_policy',\n",
              "       'cltv', 'log_claim_amount', 'total_claimed_amt', 'cltv_lag_2',\n",
              "       'cltv_lag_3', 'cltv_lag_4', 'cltv_lag_5'],\n",
              "      dtype='object')"
            ]
          },
          "metadata": {},
          "execution_count": 31
        }
      ],
      "source": [
        "train.columns"
      ]
    },
    {
      "cell_type": "code",
      "execution_count": 32,
      "id": "370bae11",
      "metadata": {
        "colab": {
          "base_uri": "https://localhost:8080/"
        },
        "id": "370bae11",
        "outputId": "5b290504-5dfc-4bf8-d01b-be8f8da8694b"
      },
      "outputs": [
        {
          "output_type": "execute_result",
          "data": {
            "text/plain": [
              "Index(['id', 'gender', 'area', 'qualification', 'income', 'marital_status',\n",
              "       'vintage', 'claim_amount', 'num_policies', 'policy', 'type_of_policy',\n",
              "       'log_claim_amount', 'total_claimed_amt', 'cltv_lag_2', 'cltv_lag_3',\n",
              "       'cltv_lag_4', 'cltv_lag_5'],\n",
              "      dtype='object')"
            ]
          },
          "metadata": {},
          "execution_count": 32
        }
      ],
      "source": [
        "test.columns"
      ]
    },
    {
      "cell_type": "code",
      "execution_count": 33,
      "id": "fe84af80",
      "metadata": {
        "ExecuteTime": {
          "end_time": "2023-01-20T07:08:32.010865Z",
          "start_time": "2023-01-20T07:08:31.590181Z"
        },
        "colab": {
          "base_uri": "https://localhost:8080/"
        },
        "id": "fe84af80",
        "outputId": "e7ac6346-3ae0-424a-f3d4-a6a1a3b0eba1"
      },
      "outputs": [
        {
          "output_type": "stream",
          "name": "stderr",
          "text": [
            "[Parallel(n_jobs=2)]: Using backend ThreadingBackend with 2 concurrent workers.\n",
            "[Parallel(n_jobs=2)]: Done  46 tasks      | elapsed:    0.1s\n",
            "[Parallel(n_jobs=2)]: Done 196 tasks      | elapsed:    0.5s\n",
            "[Parallel(n_jobs=2)]: Done 446 tasks      | elapsed:    1.2s\n",
            "[Parallel(n_jobs=2)]: Done 796 tasks      | elapsed:    2.2s\n",
            "[Parallel(n_jobs=2)]: Done 1000 out of 1000 | elapsed:    2.7s finished\n"
          ]
        }
      ],
      "source": [
        "price = model_rf.predict(test)\n",
        "test_ids = test['id']\n",
        "submission = pd.DataFrame({\n",
        "    \"id\": test_ids,\n",
        "    \"cltv\": price\n",
        "})\n",
        "\n",
        "submission.to_csv(\"submission_4.csv\", index=False)"
      ]
    },
    {
      "cell_type": "code",
      "execution_count": 36,
      "id": "ab919778",
      "metadata": {
        "ExecuteTime": {
          "end_time": "2023-01-20T07:09:07.978638Z",
          "start_time": "2023-01-20T07:09:07.966633Z"
        },
        "colab": {
          "base_uri": "https://localhost:8080/",
          "height": 363
        },
        "id": "ab919778",
        "outputId": "3d15588d-90d1-4b25-8d6f-7bee340f4a7a"
      },
      "outputs": [
        {
          "output_type": "execute_result",
          "data": {
            "text/plain": [
              "      id           cltv\n",
              "0  89393   93540.111601\n",
              "1  89394  130526.777394\n",
              "2  89395  120791.001161\n",
              "3  89396  113413.347196\n",
              "4  89397  202268.319939\n",
              "5  89398  171170.468781\n",
              "6  89399  149452.533454\n",
              "7  89400  166567.326306\n",
              "8  89401  148243.518106\n",
              "9  89402  171242.793125"
            ],
            "text/html": [
              "\n",
              "  <div id=\"df-9e4b5e85-8be7-4c0d-acaf-283c58ae8eb7\">\n",
              "    <div class=\"colab-df-container\">\n",
              "      <div>\n",
              "<style scoped>\n",
              "    .dataframe tbody tr th:only-of-type {\n",
              "        vertical-align: middle;\n",
              "    }\n",
              "\n",
              "    .dataframe tbody tr th {\n",
              "        vertical-align: top;\n",
              "    }\n",
              "\n",
              "    .dataframe thead th {\n",
              "        text-align: right;\n",
              "    }\n",
              "</style>\n",
              "<table border=\"1\" class=\"dataframe\">\n",
              "  <thead>\n",
              "    <tr style=\"text-align: right;\">\n",
              "      <th></th>\n",
              "      <th>id</th>\n",
              "      <th>cltv</th>\n",
              "    </tr>\n",
              "  </thead>\n",
              "  <tbody>\n",
              "    <tr>\n",
              "      <th>0</th>\n",
              "      <td>89393</td>\n",
              "      <td>93540.111601</td>\n",
              "    </tr>\n",
              "    <tr>\n",
              "      <th>1</th>\n",
              "      <td>89394</td>\n",
              "      <td>130526.777394</td>\n",
              "    </tr>\n",
              "    <tr>\n",
              "      <th>2</th>\n",
              "      <td>89395</td>\n",
              "      <td>120791.001161</td>\n",
              "    </tr>\n",
              "    <tr>\n",
              "      <th>3</th>\n",
              "      <td>89396</td>\n",
              "      <td>113413.347196</td>\n",
              "    </tr>\n",
              "    <tr>\n",
              "      <th>4</th>\n",
              "      <td>89397</td>\n",
              "      <td>202268.319939</td>\n",
              "    </tr>\n",
              "    <tr>\n",
              "      <th>5</th>\n",
              "      <td>89398</td>\n",
              "      <td>171170.468781</td>\n",
              "    </tr>\n",
              "    <tr>\n",
              "      <th>6</th>\n",
              "      <td>89399</td>\n",
              "      <td>149452.533454</td>\n",
              "    </tr>\n",
              "    <tr>\n",
              "      <th>7</th>\n",
              "      <td>89400</td>\n",
              "      <td>166567.326306</td>\n",
              "    </tr>\n",
              "    <tr>\n",
              "      <th>8</th>\n",
              "      <td>89401</td>\n",
              "      <td>148243.518106</td>\n",
              "    </tr>\n",
              "    <tr>\n",
              "      <th>9</th>\n",
              "      <td>89402</td>\n",
              "      <td>171242.793125</td>\n",
              "    </tr>\n",
              "  </tbody>\n",
              "</table>\n",
              "</div>\n",
              "      <button class=\"colab-df-convert\" onclick=\"convertToInteractive('df-9e4b5e85-8be7-4c0d-acaf-283c58ae8eb7')\"\n",
              "              title=\"Convert this dataframe to an interactive table.\"\n",
              "              style=\"display:none;\">\n",
              "        \n",
              "  <svg xmlns=\"http://www.w3.org/2000/svg\" height=\"24px\"viewBox=\"0 0 24 24\"\n",
              "       width=\"24px\">\n",
              "    <path d=\"M0 0h24v24H0V0z\" fill=\"none\"/>\n",
              "    <path d=\"M18.56 5.44l.94 2.06.94-2.06 2.06-.94-2.06-.94-.94-2.06-.94 2.06-2.06.94zm-11 1L8.5 8.5l.94-2.06 2.06-.94-2.06-.94L8.5 2.5l-.94 2.06-2.06.94zm10 10l.94 2.06.94-2.06 2.06-.94-2.06-.94-.94-2.06-.94 2.06-2.06.94z\"/><path d=\"M17.41 7.96l-1.37-1.37c-.4-.4-.92-.59-1.43-.59-.52 0-1.04.2-1.43.59L10.3 9.45l-7.72 7.72c-.78.78-.78 2.05 0 2.83L4 21.41c.39.39.9.59 1.41.59.51 0 1.02-.2 1.41-.59l7.78-7.78 2.81-2.81c.8-.78.8-2.07 0-2.86zM5.41 20L4 18.59l7.72-7.72 1.47 1.35L5.41 20z\"/>\n",
              "  </svg>\n",
              "      </button>\n",
              "      \n",
              "  <style>\n",
              "    .colab-df-container {\n",
              "      display:flex;\n",
              "      flex-wrap:wrap;\n",
              "      gap: 12px;\n",
              "    }\n",
              "\n",
              "    .colab-df-convert {\n",
              "      background-color: #E8F0FE;\n",
              "      border: none;\n",
              "      border-radius: 50%;\n",
              "      cursor: pointer;\n",
              "      display: none;\n",
              "      fill: #1967D2;\n",
              "      height: 32px;\n",
              "      padding: 0 0 0 0;\n",
              "      width: 32px;\n",
              "    }\n",
              "\n",
              "    .colab-df-convert:hover {\n",
              "      background-color: #E2EBFA;\n",
              "      box-shadow: 0px 1px 2px rgba(60, 64, 67, 0.3), 0px 1px 3px 1px rgba(60, 64, 67, 0.15);\n",
              "      fill: #174EA6;\n",
              "    }\n",
              "\n",
              "    [theme=dark] .colab-df-convert {\n",
              "      background-color: #3B4455;\n",
              "      fill: #D2E3FC;\n",
              "    }\n",
              "\n",
              "    [theme=dark] .colab-df-convert:hover {\n",
              "      background-color: #434B5C;\n",
              "      box-shadow: 0px 1px 3px 1px rgba(0, 0, 0, 0.15);\n",
              "      filter: drop-shadow(0px 1px 2px rgba(0, 0, 0, 0.3));\n",
              "      fill: #FFFFFF;\n",
              "    }\n",
              "  </style>\n",
              "\n",
              "      <script>\n",
              "        const buttonEl =\n",
              "          document.querySelector('#df-9e4b5e85-8be7-4c0d-acaf-283c58ae8eb7 button.colab-df-convert');\n",
              "        buttonEl.style.display =\n",
              "          google.colab.kernel.accessAllowed ? 'block' : 'none';\n",
              "\n",
              "        async function convertToInteractive(key) {\n",
              "          const element = document.querySelector('#df-9e4b5e85-8be7-4c0d-acaf-283c58ae8eb7');\n",
              "          const dataTable =\n",
              "            await google.colab.kernel.invokeFunction('convertToInteractive',\n",
              "                                                     [key], {});\n",
              "          if (!dataTable) return;\n",
              "\n",
              "          const docLinkHtml = 'Like what you see? Visit the ' +\n",
              "            '<a target=\"_blank\" href=https://colab.research.google.com/notebooks/data_table.ipynb>data table notebook</a>'\n",
              "            + ' to learn more about interactive tables.';\n",
              "          element.innerHTML = '';\n",
              "          dataTable['output_type'] = 'display_data';\n",
              "          await google.colab.output.renderOutput(dataTable, element);\n",
              "          const docLink = document.createElement('div');\n",
              "          docLink.innerHTML = docLinkHtml;\n",
              "          element.appendChild(docLink);\n",
              "        }\n",
              "      </script>\n",
              "    </div>\n",
              "  </div>\n",
              "  "
            ]
          },
          "metadata": {},
          "execution_count": 36
        }
      ],
      "source": [
        "submission.head(10)"
      ]
    },
    {
      "cell_type": "code",
      "execution_count": 36,
      "id": "83b9e1cf",
      "metadata": {
        "ExecuteTime": {
          "end_time": "2023-01-20T07:08:50.991543Z",
          "start_time": "2023-01-20T07:08:50.974896Z"
        },
        "id": "83b9e1cf"
      },
      "outputs": [],
      "source": []
    },
    {
      "cell_type": "code",
      "execution_count": 39,
      "id": "c456d433",
      "metadata": {
        "ExecuteTime": {
          "end_time": "2023-01-20T07:11:45.356684Z",
          "start_time": "2023-01-20T07:11:45.340642Z"
        },
        "colab": {
          "base_uri": "https://localhost:8080/"
        },
        "id": "c456d433",
        "outputId": "6c28cac1-d207-4961-dc63-16e2982af264"
      },
      "outputs": [
        {
          "output_type": "stream",
          "name": "stdout",
          "text": [
            "r2 score for a worse model is -0.41533235700321747\n"
          ]
        }
      ],
      "source": [
        "from sklearn.metrics import r2_score\n",
        "y = train['cltv'][0:59595]\n",
        "f = submission['cltv']\n",
        "r2 = r2_score(y, f)\n",
        "print('r2 score for a worse model is', r2)"
      ]
    },
    {
      "cell_type": "code",
      "execution_count": 40,
      "id": "a7f76a4e",
      "metadata": {
        "ExecuteTime": {
          "end_time": "2023-01-20T07:16:46.690728Z",
          "start_time": "2023-01-20T07:16:46.672765Z"
        },
        "colab": {
          "base_uri": "https://localhost:8080/"
        },
        "id": "a7f76a4e",
        "outputId": "e52ec925-fd2e-4210-c179-2ea6a8e4ac64"
      },
      "outputs": [
        {
          "output_type": "execute_result",
          "data": {
            "text/plain": [
              "0.00011984955187888708"
            ]
          },
          "metadata": {},
          "execution_count": 40
        }
      ],
      "source": [
        "import numpy\n",
        "corr_matrix = numpy.corrcoef(y, f)\n",
        "corr = corr_matrix[0,1]\n",
        "R_sq = corr**2\n",
        "R_sq"
      ]
    },
    {
      "cell_type": "code",
      "execution_count": 41,
      "id": "219f649f",
      "metadata": {
        "ExecuteTime": {
          "end_time": "2023-01-20T07:29:25.562971Z",
          "start_time": "2023-01-20T07:29:24.004380Z"
        },
        "colab": {
          "base_uri": "https://localhost:8080/",
          "height": 295
        },
        "id": "219f649f",
        "outputId": "34be15be-1b2b-4f6d-de4f-deff79ec7f43"
      },
      "outputs": [
        {
          "output_type": "display_data",
          "data": {
            "text/plain": [
              "<Figure size 432x288 with 1 Axes>"
            ],
            "image/png": "[encoded data removed]"
          },
          "metadata": {
            "needs_background": "light"
          }
        }
      ],
      "source": [
        "x_axis=train['id']\n",
        "y_axis=train['cltv']\n",
        "plt.plot(x_axis, y_axis, color='red', marker='o')\n",
        "plt.title('id and cltv ')\n",
        "plt.xlabel('id')\n",
        "plt.ylabel('cltv')\n",
        "plt.rcParams[\"figure.figsize\"] = (30,20)\n",
        "# plt.figure(figsize=(10, 20))\n",
        "plt.show()"
      ]
    },
    {
      "cell_type": "code",
      "execution_count": 42,
      "id": "55f6e358",
      "metadata": {
        "ExecuteTime": {
          "end_time": "2023-01-20T07:29:45.905270Z",
          "start_time": "2023-01-20T07:29:40.765259Z"
        },
        "colab": {
          "base_uri": "https://localhost:8080/",
          "height": 834
        },
        "id": "55f6e358",
        "outputId": "6c066d7a-25d9-4aa7-eb2f-8405e5efe35b"
      },
      "outputs": [
        {
          "output_type": "display_data",
          "data": {
            "text/plain": [
              "<Figure size 2160x1440 with 1 Axes>"
            ],
            "image/png": "[encoded data removed]"
          },
          "metadata": {
            "needs_background": "light"
          }
        }
      ],
      "source": [
        "x_axis=submission['id']\n",
        "y_axis=submission['cltv']\n",
        "plt.plot(x_axis, y_axis, color='red', marker='o')\n",
        "plt.title('id and cltv')\n",
        "plt.xlabel('id')\n",
        "plt.ylabel('cltv')\n",
        "plt.rcParams[\"figure.figsize\"] = (30,20)\n",
        "plt.show()"
      ]
    },
    {
      "cell_type": "code",
      "execution_count": null,
      "id": "1f2c599e",
      "metadata": {
        "id": "1f2c599e"
      },
      "outputs": [],
      "source": []
    }
  ],
  "metadata": {
    "kernelspec": {
      "display_name": "Python 3 (ipykernel)",
      "language": "python",
      "name": "python3"
    },
    "language_info": {
      "codemirror_mode": {
        "name": "ipython",
        "version": 3
      },
      "file_extension": ".py",
      "mimetype": "text/x-python",
      "name": "python",
      "nbconvert_exporter": "python",
      "pygments_lexer": "ipython3",
      "version": "3.10.9"
    },
    "colab": {
      "provenance": []
    },
    "accelerator": "TPU",
    "gpuClass": "standard"
  },
  "nbformat": 4,
  "nbformat_minor": 5
}